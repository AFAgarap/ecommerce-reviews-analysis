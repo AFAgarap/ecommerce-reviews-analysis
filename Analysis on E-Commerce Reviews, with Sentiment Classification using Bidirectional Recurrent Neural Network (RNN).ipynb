{
 "cells": [
  {
   "cell_type": "markdown",
   "metadata": {},
   "source": [
    "Analysis on E-Commerce Reviews, with Sentiment Classification using Bidirectional Recurrent Neural Network (RNN)\n",
    "=="
   ]
  },
  {
   "cell_type": "code",
   "execution_count": 1,
   "metadata": {},
   "outputs": [],
   "source": [
    "import matplotlib.pyplot as plt\n",
    "import nltk\n",
    "import numpy as np\n",
    "import pandas as pd\n",
    "import seaborn as sns\n",
    "from wordcloud import WordCloud, STOPWORDS"
   ]
  },
  {
   "cell_type": "code",
   "execution_count": 2,
   "metadata": {},
   "outputs": [],
   "source": [
    "df = pd.read_csv('Womens Clothing E-Commerce Reviews.csv')"
   ]
  },
  {
   "cell_type": "code",
   "execution_count": 3,
   "metadata": {},
   "outputs": [],
   "source": [
    "for column in [\"Division Name\",\"Department Name\",\"Class Name\",\"Review Text\"]:\n",
    "    df = df[df[column].notnull()]\n",
    "df.drop(df.columns[0], inplace=True, axis=1)"
   ]
  },
  {
   "cell_type": "code",
   "execution_count": 4,
   "metadata": {},
   "outputs": [
    {
     "data": {
      "text/plain": [
       "(22628, 10)"
      ]
     },
     "execution_count": 4,
     "metadata": {},
     "output_type": "execute_result"
    }
   ],
   "source": [
    "df.shape"
   ]
  },
  {
   "cell_type": "code",
   "execution_count": 5,
   "metadata": {},
   "outputs": [],
   "source": [
    "df['Label'] = 0"
   ]
  },
  {
   "cell_type": "code",
   "execution_count": 6,
   "metadata": {},
   "outputs": [],
   "source": [
    "df.loc[df.Rating >= 3, ['Label']] = 1"
   ]
  },
  {
   "cell_type": "code",
   "execution_count": 7,
   "metadata": {},
   "outputs": [],
   "source": [
    "df['Word Count'] = df['Review Text'].str.split().apply(len)"
   ]
  },
  {
   "cell_type": "code",
   "execution_count": 8,
   "metadata": {},
   "outputs": [
    {
     "data": {
      "text/html": [
       "<div>\n",
       "<style>\n",
       "    .dataframe thead tr:only-child th {\n",
       "        text-align: right;\n",
       "    }\n",
       "\n",
       "    .dataframe thead th {\n",
       "        text-align: left;\n",
       "    }\n",
       "\n",
       "    .dataframe tbody tr th {\n",
       "        vertical-align: top;\n",
       "    }\n",
       "</style>\n",
       "<table border=\"1\" class=\"dataframe\">\n",
       "  <thead>\n",
       "    <tr style=\"text-align: right;\">\n",
       "      <th></th>\n",
       "      <th>Clothing ID</th>\n",
       "      <th>Age</th>\n",
       "      <th>Title</th>\n",
       "      <th>Review Text</th>\n",
       "      <th>Rating</th>\n",
       "      <th>Recommended IND</th>\n",
       "      <th>Positive Feedback Count</th>\n",
       "      <th>Division Name</th>\n",
       "      <th>Department Name</th>\n",
       "      <th>Class Name</th>\n",
       "      <th>Label</th>\n",
       "      <th>Word Count</th>\n",
       "    </tr>\n",
       "  </thead>\n",
       "  <tbody>\n",
       "    <tr>\n",
       "      <th>9228</th>\n",
       "      <td>868</td>\n",
       "      <td>39</td>\n",
       "      <td>Didn't work for me</td>\n",
       "      <td>Cute. i love the button back detail. but it's ...</td>\n",
       "      <td>3</td>\n",
       "      <td>1</td>\n",
       "      <td>2</td>\n",
       "      <td>General</td>\n",
       "      <td>Tops</td>\n",
       "      <td>Knits</td>\n",
       "      <td>1</td>\n",
       "      <td>61</td>\n",
       "    </tr>\n",
       "    <tr>\n",
       "      <th>14769</th>\n",
       "      <td>194</td>\n",
       "      <td>27</td>\n",
       "      <td>Well made</td>\n",
       "      <td>This jacket looks great and is well made. the ...</td>\n",
       "      <td>3</td>\n",
       "      <td>0</td>\n",
       "      <td>0</td>\n",
       "      <td>General Petite</td>\n",
       "      <td>Intimate</td>\n",
       "      <td>Lounge</td>\n",
       "      <td>1</td>\n",
       "      <td>26</td>\n",
       "    </tr>\n",
       "    <tr>\n",
       "      <th>14807</th>\n",
       "      <td>873</td>\n",
       "      <td>43</td>\n",
       "      <td>Versatile</td>\n",
       "      <td>I love this! i can dress it up with a sharp wh...</td>\n",
       "      <td>4</td>\n",
       "      <td>1</td>\n",
       "      <td>0</td>\n",
       "      <td>General Petite</td>\n",
       "      <td>Tops</td>\n",
       "      <td>Knits</td>\n",
       "      <td>1</td>\n",
       "      <td>27</td>\n",
       "    </tr>\n",
       "    <tr>\n",
       "      <th>7493</th>\n",
       "      <td>1059</td>\n",
       "      <td>66</td>\n",
       "      <td>Great piece for fall</td>\n",
       "      <td>Cute and comfy. if you don't throw a leg out l...</td>\n",
       "      <td>4</td>\n",
       "      <td>1</td>\n",
       "      <td>0</td>\n",
       "      <td>General Petite</td>\n",
       "      <td>Bottoms</td>\n",
       "      <td>Pants</td>\n",
       "      <td>1</td>\n",
       "      <td>39</td>\n",
       "    </tr>\n",
       "    <tr>\n",
       "      <th>11957</th>\n",
       "      <td>829</td>\n",
       "      <td>37</td>\n",
       "      <td>Great shirt</td>\n",
       "      <td>I have many maeve shirts and this one does not...</td>\n",
       "      <td>5</td>\n",
       "      <td>1</td>\n",
       "      <td>2</td>\n",
       "      <td>General</td>\n",
       "      <td>Tops</td>\n",
       "      <td>Blouses</td>\n",
       "      <td>1</td>\n",
       "      <td>40</td>\n",
       "    </tr>\n",
       "  </tbody>\n",
       "</table>\n",
       "</div>"
      ],
      "text/plain": [
       "       Clothing ID  Age                 Title  \\\n",
       "9228           868   39    Didn't work for me   \n",
       "14769          194   27             Well made   \n",
       "14807          873   43             Versatile   \n",
       "7493          1059   66  Great piece for fall   \n",
       "11957          829   37           Great shirt   \n",
       "\n",
       "                                             Review Text  Rating  \\\n",
       "9228   Cute. i love the button back detail. but it's ...       3   \n",
       "14769  This jacket looks great and is well made. the ...       3   \n",
       "14807  I love this! i can dress it up with a sharp wh...       4   \n",
       "7493   Cute and comfy. if you don't throw a leg out l...       4   \n",
       "11957  I have many maeve shirts and this one does not...       5   \n",
       "\n",
       "       Recommended IND  Positive Feedback Count   Division Name  \\\n",
       "9228                 1                        2         General   \n",
       "14769                0                        0  General Petite   \n",
       "14807                1                        0  General Petite   \n",
       "7493                 1                        0  General Petite   \n",
       "11957                1                        2         General   \n",
       "\n",
       "      Department Name Class Name  Label  Word Count  \n",
       "9228             Tops      Knits      1          61  \n",
       "14769        Intimate     Lounge      1          26  \n",
       "14807            Tops      Knits      1          27  \n",
       "7493          Bottoms      Pants      1          39  \n",
       "11957            Tops    Blouses      1          40  "
      ]
     },
     "execution_count": 8,
     "metadata": {},
     "output_type": "execute_result"
    }
   ],
   "source": [
    "df.sample(5)"
   ]
  },
  {
   "cell_type": "code",
   "execution_count": 9,
   "metadata": {},
   "outputs": [
    {
     "data": {
      "text/html": [
       "<div>\n",
       "<style>\n",
       "    .dataframe thead tr:only-child th {\n",
       "        text-align: right;\n",
       "    }\n",
       "\n",
       "    .dataframe thead th {\n",
       "        text-align: left;\n",
       "    }\n",
       "\n",
       "    .dataframe tbody tr th {\n",
       "        vertical-align: top;\n",
       "    }\n",
       "</style>\n",
       "<table border=\"1\" class=\"dataframe\">\n",
       "  <thead>\n",
       "    <tr style=\"text-align: right;\">\n",
       "      <th></th>\n",
       "      <th>mean</th>\n",
       "      <th>std</th>\n",
       "      <th>min</th>\n",
       "      <th>25%</th>\n",
       "      <th>50%</th>\n",
       "      <th>75%</th>\n",
       "      <th>max</th>\n",
       "    </tr>\n",
       "  </thead>\n",
       "  <tbody>\n",
       "    <tr>\n",
       "      <th>Clothing ID</th>\n",
       "      <td>919.695908</td>\n",
       "      <td>201.683804</td>\n",
       "      <td>1.0</td>\n",
       "      <td>861.0</td>\n",
       "      <td>936.0</td>\n",
       "      <td>1078.0</td>\n",
       "      <td>1205.0</td>\n",
       "    </tr>\n",
       "    <tr>\n",
       "      <th>Age</th>\n",
       "      <td>43.282880</td>\n",
       "      <td>12.328176</td>\n",
       "      <td>18.0</td>\n",
       "      <td>34.0</td>\n",
       "      <td>41.0</td>\n",
       "      <td>52.0</td>\n",
       "      <td>99.0</td>\n",
       "    </tr>\n",
       "    <tr>\n",
       "      <th>Rating</th>\n",
       "      <td>4.183092</td>\n",
       "      <td>1.115911</td>\n",
       "      <td>1.0</td>\n",
       "      <td>4.0</td>\n",
       "      <td>5.0</td>\n",
       "      <td>5.0</td>\n",
       "      <td>5.0</td>\n",
       "    </tr>\n",
       "    <tr>\n",
       "      <th>Recommended IND</th>\n",
       "      <td>0.818764</td>\n",
       "      <td>0.385222</td>\n",
       "      <td>0.0</td>\n",
       "      <td>1.0</td>\n",
       "      <td>1.0</td>\n",
       "      <td>1.0</td>\n",
       "      <td>1.0</td>\n",
       "    </tr>\n",
       "    <tr>\n",
       "      <th>Positive Feedback Count</th>\n",
       "      <td>2.631784</td>\n",
       "      <td>5.787520</td>\n",
       "      <td>0.0</td>\n",
       "      <td>0.0</td>\n",
       "      <td>1.0</td>\n",
       "      <td>3.0</td>\n",
       "      <td>122.0</td>\n",
       "    </tr>\n",
       "    <tr>\n",
       "      <th>Label</th>\n",
       "      <td>0.895263</td>\n",
       "      <td>0.306222</td>\n",
       "      <td>0.0</td>\n",
       "      <td>1.0</td>\n",
       "      <td>1.0</td>\n",
       "      <td>1.0</td>\n",
       "      <td>1.0</td>\n",
       "    </tr>\n",
       "    <tr>\n",
       "      <th>Word Count</th>\n",
       "      <td>60.211950</td>\n",
       "      <td>28.533053</td>\n",
       "      <td>2.0</td>\n",
       "      <td>36.0</td>\n",
       "      <td>59.0</td>\n",
       "      <td>88.0</td>\n",
       "      <td>115.0</td>\n",
       "    </tr>\n",
       "  </tbody>\n",
       "</table>\n",
       "</div>"
      ],
      "text/plain": [
       "                               mean         std   min    25%    50%     75%  \\\n",
       "Clothing ID              919.695908  201.683804   1.0  861.0  936.0  1078.0   \n",
       "Age                       43.282880   12.328176  18.0   34.0   41.0    52.0   \n",
       "Rating                     4.183092    1.115911   1.0    4.0    5.0     5.0   \n",
       "Recommended IND            0.818764    0.385222   0.0    1.0    1.0     1.0   \n",
       "Positive Feedback Count    2.631784    5.787520   0.0    0.0    1.0     3.0   \n",
       "Label                      0.895263    0.306222   0.0    1.0    1.0     1.0   \n",
       "Word Count                60.211950   28.533053   2.0   36.0   59.0    88.0   \n",
       "\n",
       "                            max  \n",
       "Clothing ID              1205.0  \n",
       "Age                        99.0  \n",
       "Rating                      5.0  \n",
       "Recommended IND             1.0  \n",
       "Positive Feedback Count   122.0  \n",
       "Label                       1.0  \n",
       "Word Count                115.0  "
      ]
     },
     "execution_count": 9,
     "metadata": {},
     "output_type": "execute_result"
    }
   ],
   "source": [
    "df.describe().T.drop('count', axis=1)"
   ]
  },
  {
   "cell_type": "code",
   "execution_count": 10,
   "metadata": {},
   "outputs": [
    {
     "data": {
      "text/html": [
       "<div>\n",
       "<style>\n",
       "    .dataframe thead tr:only-child th {\n",
       "        text-align: right;\n",
       "    }\n",
       "\n",
       "    .dataframe thead th {\n",
       "        text-align: left;\n",
       "    }\n",
       "\n",
       "    .dataframe tbody tr th {\n",
       "        vertical-align: top;\n",
       "    }\n",
       "</style>\n",
       "<table border=\"1\" class=\"dataframe\">\n",
       "  <thead>\n",
       "    <tr style=\"text-align: right;\">\n",
       "      <th></th>\n",
       "      <th>unique</th>\n",
       "      <th>top</th>\n",
       "      <th>freq</th>\n",
       "    </tr>\n",
       "  </thead>\n",
       "  <tbody>\n",
       "    <tr>\n",
       "      <th>Title</th>\n",
       "      <td>13983</td>\n",
       "      <td>Love it!</td>\n",
       "      <td>136</td>\n",
       "    </tr>\n",
       "    <tr>\n",
       "      <th>Division Name</th>\n",
       "      <td>3</td>\n",
       "      <td>General</td>\n",
       "      <td>13365</td>\n",
       "    </tr>\n",
       "    <tr>\n",
       "      <th>Department Name</th>\n",
       "      <td>6</td>\n",
       "      <td>Tops</td>\n",
       "      <td>10048</td>\n",
       "    </tr>\n",
       "    <tr>\n",
       "      <th>Class Name</th>\n",
       "      <td>20</td>\n",
       "      <td>Dresses</td>\n",
       "      <td>6145</td>\n",
       "    </tr>\n",
       "  </tbody>\n",
       "</table>\n",
       "</div>"
      ],
      "text/plain": [
       "                unique       top   freq\n",
       "Title            13983  Love it!    136\n",
       "Division Name        3   General  13365\n",
       "Department Name      6      Tops  10048\n",
       "Class Name          20   Dresses   6145"
      ]
     },
     "execution_count": 10,
     "metadata": {},
     "output_type": "execute_result"
    }
   ],
   "source": [
    "df[['Title', 'Division Name', 'Department Name', 'Class Name']].describe(include=['O']).T.drop('count', axis=1)"
   ]
  },
  {
   "cell_type": "markdown",
   "metadata": {},
   "source": [
    "# Univariate Distributions"
   ]
  },
  {
   "cell_type": "markdown",
   "metadata": {},
   "source": [
    "## Age and Positive Feedback Frequency Distributions"
   ]
  },
  {
   "cell_type": "code",
   "execution_count": null,
   "metadata": {},
   "outputs": [],
   "source": [
    "f, ax = plt.subplots(1, 3, figsize=(16, 4), sharey=False)\n",
    "sns.distplot(df.Age, ax=ax[0])\n",
    "ax[0].set_title('Age Distribution')\n",
    "ax[0].set_ylabel('Density')\n",
    "sns.distplot(df['Positive Feedback Count'], ax=ax[1])\n",
    "ax[1].set_title('Positive Feedback Count Distribution')\n",
    "sns.distplot(np.log10((df['Positive Feedback Count'][df['Positive Feedback Count'].notnull()] + 1)), ax=ax[2])\n",
    "ax[2].set_title('Positive Feedback Count Distribution\\n[Log 10]')\n",
    "ax[2].set_xlabel('Log Positive Feedback Count')\n",
    "plt.tight_layout()\n",
    "plt.show()"
   ]
  },
  {
   "cell_type": "markdown",
   "metadata": {},
   "source": [
    "## Division Name and Department Name Distributions"
   ]
  },
  {
   "cell_type": "code",
   "execution_count": null,
   "metadata": {
    "scrolled": true
   },
   "outputs": [],
   "source": [
    "row_plots = ['Division Name', 'Department Name']\n",
    "f, axes = plt.subplots(1, len(row_plots), figsize=(14, 4), sharex=False)\n",
    "\n",
    "for i, x in enumerate(row_plots):\n",
    "    sns.countplot(y=x, data=df, order=df[x].value_counts().index, ax=axes[i])\n",
    "    axes[i].set_title('Count of Categories in {}'.format(x))\n",
    "    axes[i].set_xlabel('')\n",
    "    axes[i].set_xlabel('Frequency Count')\n",
    "axes[0].set_ylabel('Category')\n",
    "axes[1].set_ylabel('')\n",
    "plt.show()"
   ]
  },
  {
   "cell_type": "markdown",
   "metadata": {},
   "source": [
    "## Clothing ID Frequency Distribution"
   ]
  },
  {
   "cell_type": "code",
   "execution_count": null,
   "metadata": {},
   "outputs": [],
   "source": [
    "# Clothing ID Category\n",
    "f, axes = plt.subplots(1, 2, figsize=[16, 7])\n",
    "num = 30\n",
    "sns.countplot(y='Clothing ID', data=df[df['Clothing ID'].isin(df['Clothing ID'].value_counts()[:num].index)],\n",
    "              order= df['Clothing ID'].value_counts()[:num].index, ax=axes[0])\n",
    "axes[0].set_title('Frequency Count of Clothing ID\\nTop 30')\n",
    "axes[0].set_xlabel('Count')\n",
    "\n",
    "sns.countplot(y='Clothing ID', data=df[df['Clothing ID'].isin(df['Clothing ID'].value_counts()[num:60].index)],\n",
    "              order=df['Clothing ID'].value_counts()[num:60].index, ax=axes[1])\n",
    "axes[1].set_title('Frequency Count of Clothing ID\\nTop 30 to 60')\n",
    "axes[1].set_ylabel('')\n",
    "axes[1].set_xlabel('Count')\n",
    "plt.show()\n",
    "\n",
    "print('Dataframe Dimension: {} Rows'.format(df.shape[0]))\n",
    "df[df['Clothing ID'].isin([1078, 862,1094])].describe().T.drop('count',axis=1)"
   ]
  },
  {
   "cell_type": "code",
   "execution_count": null,
   "metadata": {},
   "outputs": [],
   "source": [
    "# Class Name\n",
    "plt.subplots(figsize=(12, 8))\n",
    "sns.countplot(y='Class Name', data=df,order=df['Class Name'].value_counts().index)\n",
    "plt.title('Frequency Distribution of Class Name')\n",
    "plt.xlabel('Frequency')\n",
    "plt.show()"
   ]
  },
  {
   "cell_type": "markdown",
   "metadata": {},
   "source": [
    "## Frequency Distribution of Rating, Recommended IND, and Label"
   ]
  },
  {
   "cell_type": "code",
   "execution_count": null,
   "metadata": {},
   "outputs": [],
   "source": [
    "cat_dtypes = ['Rating', 'Recommended IND', 'Label']\n",
    "increment = 0\n",
    "f, axes = plt.subplots(1, len(cat_dtypes), figsize=(16, 6), sharex=False)\n",
    "\n",
    "for i in range(len(cat_dtypes)):\n",
    "    sns.countplot(x=cat_dtypes[increment], data=df, order=df[cat_dtypes[increment]].value_counts().index, ax=axes[i])\n",
    "    axes[i].set_title('Frequency Distribution for\\n{}'.format(cat_dtypes[increment]))\n",
    "    axes[i].set_ylabel('Occurrence')\n",
    "    axes[i].set_xlabel('{}'.format(cat_dtypes[increment]))\n",
    "    increment += 1\n",
    "axes[1].set_ylabel('')\n",
    "axes[2].set_ylabel('')\n",
    "plt.show()"
   ]
  },
  {
   "cell_type": "markdown",
   "metadata": {},
   "source": [
    "## Word Count by Rating, Department Name, and Recommended IND"
   ]
  },
  {
   "cell_type": "code",
   "execution_count": null,
   "metadata": {},
   "outputs": [],
   "source": [
    "f, axes = plt.subplots(1, 4, figsize=(16, 4), sharex=False)\n",
    "\n",
    "for index, y in enumerate(['Rating', 'Department Name', 'Recommended IND']):\n",
    "    for x in set(df[y][df[y].notnull()]):\n",
    "        sns.kdeplot(df['Word Count'][df[y]==x], label=x, shade=False, ax=axes[index])\n",
    "        axes[index].set_title('{} Distribution (X)\\nby {}'.format('Word Count', y))\n",
    "    axes[index].set_ylabel('Occurrence Density')\n",
    "    axes[index].set_xlabel('')\n",
    "    \n",
    "    # Plot 4\n",
    "    axes[3].set_title('Word Count Distribution (X)\\n')\n",
    "    sns.kdeplot(df['Word Count'],shade=True,ax=axes[3])\n",
    "    axes[index].set_xlabel(\"\")\n",
    "    axes[3].legend_.remove()\n",
    "plt.show()\n",
    "\n",
    "print(\"\\nTotal Word Count is: {}\".format(df[\"Word Count\"].sum()))\n",
    "df['Word Count'].describe().T"
   ]
  },
  {
   "cell_type": "markdown",
   "metadata": {},
   "source": [
    "# Multivariate Distributions\n",
    "\n",
    "## Categorical Variable by Categorical Variable\n",
    "\n",
    "## Division Name by Department Name"
   ]
  },
  {
   "cell_type": "code",
   "execution_count": null,
   "metadata": {},
   "outputs": [],
   "source": [
    "f, ax = plt.subplots(1, 2, figsize=(16, 4), sharey=True)\n",
    "sns.heatmap(pd.crosstab(df['Division Name'], df['Department Name']),\n",
    "            annot=True, linewidths=.5, ax=ax[0], fmt='g', cmap='Purples',\n",
    "            cbar_kws={'label': 'Count'})\n",
    "ax[0].set_title('Division Name Count by Department Name - Crosstab\\nHeatmap Overall Count Distribution')\n",
    "\n",
    "sns.heatmap(pd.crosstab(df['Division Name'], df['Department Name'], normalize=True).mul(100).round(0),\n",
    "            annot=True, linewidths=.5, ax=ax[1],fmt='g', cmap='Purples',\n",
    "            cbar_kws={'label': 'Percentage %'})\n",
    "ax[1].set_title('Division Name Count by Department Name - Crosstab\\nHeatmap Overall Percentage Distribution')\n",
    "ax[1].set_ylabel('')\n",
    "plt.tight_layout(pad=0)\n",
    "plt.show()"
   ]
  },
  {
   "cell_type": "code",
   "execution_count": null,
   "metadata": {},
   "outputs": [],
   "source": [
    "f, ax = plt.subplots(1, 2, figsize=(16, 4), sharey=True)\n",
    "sns.heatmap(pd.crosstab(df['Division Name'], df['Department Name'], normalize='columns').mul(100).round(0),\n",
    "            annot=True, linewidths=.5, ax=ax[0], fmt='g', cmap='Purples',\n",
    "            cbar_kws={'label': 'Percentage %'})\n",
    "ax[0].set_title('Division Name Count by Department Name - Crosstab\\nHeatmap % Distribution by Columns')\n",
    "\n",
    "sns.heatmap(pd.crosstab(df['Division Name'], df['Department Name'], normalize='index').mul(100).round(0),\n",
    "            annot=True, linewidths=.5, ax=ax[1],fmt='g', cmap='Purples',\n",
    "            cbar_kws={'label': 'Percentage %'})\n",
    "ax[1].set_title('Division Name Count by Department Name - Crosstab\\nHeatmap % Distribution by Index')\n",
    "ax[1].set_ylabel('')\n",
    "plt.tight_layout(pad=0)\n",
    "plt.show()"
   ]
  },
  {
   "cell_type": "markdown",
   "metadata": {},
   "source": [
    "## Class Name by Department Name"
   ]
  },
  {
   "cell_type": "code",
   "execution_count": null,
   "metadata": {},
   "outputs": [],
   "source": [
    "f, ax = plt.subplots(1, 2, figsize=(16, 9), sharey=True)\n",
    "fsize = 13\n",
    "sns.heatmap(pd.crosstab(df['Class Name'], df['Department Name']),\n",
    "            annot=True, linewidths=.5, ax=ax[0], fmt='g', cmap='Purples',\n",
    "            cbar_kws={'label': 'Count'})\n",
    "ax[0].set_title('Class Name Count by Department Name - Crosstab\\nHeatmap Overall Count Distribution')\n",
    "\n",
    "sns.heatmap(pd.crosstab(df['Class Name'], df['Department Name'], normalize=True).mul(100).round(0),\n",
    "            annot=True, linewidths=.5, ax=ax[1],fmt='g', cmap='Purples',\n",
    "            cbar_kws={'label': 'Percentage %'})\n",
    "ax[1].set_title('Class Name Count by Department Name - Crosstab\\nHeatmap Overall Percentage Distribution')\n",
    "ax[1].set_ylabel('')\n",
    "plt.tight_layout(pad=0)\n",
    "plt.show()"
   ]
  },
  {
   "cell_type": "code",
   "execution_count": null,
   "metadata": {},
   "outputs": [],
   "source": [
    "f, ax = plt.subplots(1, 2, figsize=(16, 9), sharey=True)\n",
    "fsize = 13\n",
    "sns.heatmap(pd.crosstab(df['Class Name'], df['Department Name'], normalize = 'columns').mul(100).round(0),\n",
    "            annot=True, fmt='g', linewidths=.5, ax=ax[0],cbar=False, cmap='Purples')\n",
    "ax[0].set_title('Class Name Count by Count - Crosstab\\nHeatmap % Distribution by Column', fontsize=fsize)\n",
    "ax[1] = sns.heatmap(pd.crosstab(df['Class Name'], df['Department Name'], normalize = 'index').mul(100).round(0),\n",
    "                    annot=True, fmt='2g', linewidths=.5, ax=ax[1],cmap='Purples',\n",
    "                    cbar_kws={'label': 'Percentage %'})\n",
    "ax[1].set_title('Class Name Count by Count - Crosstab\\nHeatmap % Distribution by Index', fontsize=fsize)\n",
    "ax[1].set_ylabel('')\n",
    "plt.tight_layout(pad=0)\n",
    "plt.show()"
   ]
  },
  {
   "cell_type": "markdown",
   "metadata": {},
   "source": [
    "## Division Name by Department Name"
   ]
  },
  {
   "cell_type": "code",
   "execution_count": null,
   "metadata": {},
   "outputs": [],
   "source": [
    "f, ax = plt.subplots(1, 2, figsize=(16, 9), sharey=True)\n",
    "fsize = 13\n",
    "sns.heatmap(pd.crosstab(df['Class Name'], df['Division Name']),\n",
    "            annot=True, linewidths=.5, ax=ax[0], fmt='g', cmap='Purples',\n",
    "            cbar_kws={'label': 'Count'})\n",
    "ax[0].set_title('Class Name Count by Division Name - Crosstab\\nHeatmap Overall Count Distribution')\n",
    "\n",
    "sns.heatmap(pd.crosstab(df['Class Name'], df['Division Name'], normalize=True).mul(100).round(0),\n",
    "            annot=True, linewidths=.5, ax=ax[1], fmt='g', cmap='Purples',\n",
    "            cbar_kws={'label': 'Percentage %'})\n",
    "ax[1].set_title('Class Name Count by Division Name - Crosstab\\nHeatmap Overall Percentage Distribution')\n",
    "ax[1].set_ylabel('')\n",
    "plt.tight_layout(pad=0)\n",
    "plt.show()\n",
    "\n",
    "# Heatmaps of Percentage Pivot Table\n",
    "f, ax = plt.subplots(1, 2, figsize=(16, 9), sharey=True)\n",
    "fsize = 13\n",
    "sns.heatmap(pd.crosstab(df['Class Name'], df['Division Name'], normalize = 'columns').mul(100).round(0),\n",
    "            annot=True, fmt='g', linewidths=.5, ax=ax[0],cbar=False,cmap='Purples')\n",
    "ax[0].set_title('Class Name Count by Count - Crosstab\\nHeatmap % Distribution by Column', fontsize = fsize)\n",
    "ax[1] = sns.heatmap(pd.crosstab(df['Class Name'], df['Division Name'], normalize = 'index').mul(100).round(0),\n",
    "                    annot=True, fmt='2g', linewidths=.5, ax=ax[1], cmap='Purples',\n",
    "                    cbar_kws={'label': 'Percentage %'})\n",
    "ax[1].set_title('Class Name Count by Count - Crosstab\\nHeatmap % Distribution by Index', fontsize=fsize)\n",
    "ax[1].set_ylabel('')\n",
    "plt.tight_layout(pad=0)"
   ]
  },
  {
   "cell_type": "markdown",
   "metadata": {},
   "source": [
    "## Continuous Variable by Continuous Variable"
   ]
  },
  {
   "cell_type": "code",
   "execution_count": null,
   "metadata": {},
   "outputs": [],
   "source": [
    "def minmaxscaler(df):\n",
    "    return (df - df.min()) / (df.max() - df.min())\n",
    "\n",
    "def zscorenomalize(df):\n",
    "    return (df - df.mean()) / df.std()\n",
    "\n",
    "g = sns.jointplot(x=df['Positive Feedback Count'], y=df['Age'], kind='reg', color='g')\n",
    "g.fig.suptitle(\"Scatter Plot for Age and Positive Feedback Count\")\n",
    "plt.show()"
   ]
  },
  {
   "cell_type": "code",
   "execution_count": null,
   "metadata": {},
   "outputs": [],
   "source": [
    "sns.heatmap(df[['Positive Feedback Count', 'Age']].corr(), annot=True)"
   ]
  },
  {
   "cell_type": "markdown",
   "metadata": {},
   "source": [
    "## Percentage Standardize Distribution Plots"
   ]
  },
  {
   "cell_type": "code",
   "execution_count": null,
   "metadata": {},
   "outputs": [],
   "source": [
    "def percentstandardize_barplot(x, y, hue, data, ax=None, order=None):\n",
    "    \"\"\"\n",
    "    Standardize by percentage the data using pandas functions, then plot using Seaborn.\n",
    "    Function arguments are and extention of Seaborns'.\n",
    "    \"\"\"\n",
    "    sns.barplot(x=x, y=y, hue=hue, ax=ax, order=order,\n",
    "    data=(data[[x, hue]]\n",
    "          .reset_index(drop=True)\n",
    "          .groupby([x])[hue]\n",
    "          .value_counts(normalize=True)\n",
    "          .rename('Percentage').mul(100)\n",
    "          .reset_index()\n",
    "          .sort_values(hue)))\n",
    "    plt.title('Percentage Frequency of {} by {}'.format(hue, x))\n",
    "    plt.ylabel('Percentage %')"
   ]
  },
  {
   "cell_type": "markdown",
   "metadata": {},
   "source": [
    "## Recommended IND by Department and Division"
   ]
  },
  {
   "cell_type": "code",
   "execution_count": null,
   "metadata": {},
   "outputs": [],
   "source": [
    "huevar = 'Recommended IND'\n",
    "f, axes = plt.subplots(1, 2, figsize=(16, 7))\n",
    "percentstandardize_barplot(x='Department Name', y='Percentage', hue=huevar,data=df, ax=axes[0])\n",
    "axes[0].set_title('Percentage Frequency of {}\\nby Department Name'.format(huevar))\n",
    "axes[0].set_ylabel('Percentage %')\n",
    "percentstandardize_barplot(x='Division Name', y='Percentage', hue=huevar, data=df, ax=axes[1])\n",
    "axes[1].set_title('Percentage Frequency of {}\\nby Division Name'.format(huevar))\n",
    "axes[1].set_ylabel('')\n",
    "plt.show()"
   ]
  },
  {
   "cell_type": "markdown",
   "metadata": {},
   "source": [
    "## Rating by Department and Division Name"
   ]
  },
  {
   "cell_type": "code",
   "execution_count": null,
   "metadata": {},
   "outputs": [],
   "source": [
    "xvar = ['Department Name', 'Division Name']\n",
    "huevar = 'Rating'\n",
    "f, axes = plt.subplots(1, 2, figsize=(16, 7))\n",
    "percentstandardize_barplot(x=xvar[0], y='Percentage', hue=huevar, data=df, ax=axes[0])\n",
    "axes[0].set_title('Percentage Frequency of {}\\nby {}'.format(huevar, xvar[0]))\n",
    "axes[0].set_ylabel('Percentage %')\n",
    "percentstandardize_barplot(x=xvar[1], y='Percentage', hue=huevar, data=df, ax=axes[1])\n",
    "axes[1].set_title(\"Percentage Frequency of {}\\nby {}\".format(huevar, xvar[1]))\n",
    "plt.show()"
   ]
  },
  {
   "cell_type": "markdown",
   "metadata": {},
   "source": [
    "## Rating by Recommended IND"
   ]
  },
  {
   "cell_type": "code",
   "execution_count": null,
   "metadata": {},
   "outputs": [],
   "source": [
    "huevar = 'Rating'\n",
    "f, axes = plt.subplots(1, 2, figsize=(16, 7))\n",
    "sns.countplot(x='Rating', hue='Recommended IND', data=df, ax=axes[0])\n",
    "axes[0].set_title('Occurrence of {}\\nby {}'.format(huevar, 'Recommended IND'))\n",
    "axes[0].set_ylabel('Count')\n",
    "percentstandardize_barplot(x='Rating', y='Percentage', hue='Recommended IND', data=df, ax=axes[1])\n",
    "axes[1].set_title('Percentage Normalized Occurrence of {}\\nby {}'.format(huevar, 'Recommended IND'))\n",
    "axes[1].set_ylabel('% Percentage by Rating')\n",
    "plt.show()"
   ]
  },
  {
   "cell_type": "markdown",
   "metadata": {},
   "source": [
    "# Multivariate Analysis and Descriptive Statistics"
   ]
  },
  {
   "cell_type": "markdown",
   "metadata": {},
   "source": [
    "## Rating by Recommended IND"
   ]
  },
  {
   "cell_type": "code",
   "execution_count": null,
   "metadata": {},
   "outputs": [],
   "source": [
    "f, axes = plt.subplots(1, 3, figsize=(16, 7))\n",
    "rot = 30\n",
    "df.pivot_table('Rating',\n",
    "               columns=['Recommended IND']).plot.bar(ax=axes[0], rot=rot)\n",
    "axes[0].set_title('Average Rating by\\nRecommended IND')\n",
    "df.pivot_table('Rating', index='Division Name',\n",
    "               columns=['Recommended IND']).plot.bar(ax=axes[1], rot=rot)\n",
    "axes[1].set_title('Average Rating by Divison Name\\nand Recommended IND')\n",
    "df.pivot_table('Rating', index='Department Name',\n",
    "               columns=['Recommended IND']).plot.bar(ax=axes[2], rot=rot)\n",
    "axes[0].set_ylabel('Rating')\n",
    "axes[2].set_title('Average Rating by Department Name\\nand Recommended IND')\n",
    "f.tight_layout()\n",
    "plt.show()"
   ]
  },
  {
   "cell_type": "markdown",
   "metadata": {},
   "source": [
    "## Average Rating and Recommended IND by Clothing ID Correlation"
   ]
  },
  {
   "cell_type": "code",
   "execution_count": null,
   "metadata": {},
   "outputs": [],
   "source": [
    "temp = (df.groupby('Clothing ID')[['Rating', 'Recommended IND', 'Age']]\n",
    "        .aggregate(['count', 'mean']))\n",
    "temp.columns = ['Count', 'Rating Mean', 'Recommended IND Count',\n",
    "                'Recommended Mean', 'Age Count', 'Age Mean']\n",
    "temp.drop(['Recommended IND Count', 'Age Count'], axis=1, inplace=True)\n",
    "\n",
    "# Plot Correlation Matrix\n",
    "f, ax = plt.subplots(figsize=[10, 7])\n",
    "ax = sns.heatmap(temp.corr(),\n",
    "                 annot=True, fmt='.2f', cbar_kws={'label': 'Correlation Coefficient'})\n",
    "ax.set_title('Correlation Matrix for Mean and Count for\\nRating, Recommended, and Age\\nGrouped by Clothing ID')\n",
    "plt.show()"
   ]
  },
  {
   "cell_type": "code",
   "execution_count": null,
   "metadata": {},
   "outputs": [],
   "source": [
    "g = sns.jointplot(x='Recommended Mean', y='Rating Mean', data=temp,\n",
    "                  kind='reg', color='b')\n",
    "plt.subplots_adjust(top=0.999)\n",
    "g.fig.suptitle('Rating Mean and Recommended Mean\\nGrouped by Clothing ID')\n",
    "plt.show()"
   ]
  },
  {
   "cell_type": "code",
   "execution_count": null,
   "metadata": {},
   "outputs": [],
   "source": [
    "plt.figure(figsize=(10, 8))\n",
    "plt.scatter(temp['Recommended Mean'], temp['Rating Mean'],\n",
    "            alpha=.8, c=temp[\"Count\"], cmap='seismic')\n",
    "cbar = plt.colorbar() # Color bar. Vive la France!\n",
    "cbar.set_label('Count', rotation=90)\n",
    "plt.xlabel('Average Recommended IND')\n",
    "plt.ylabel('Average Rating')\n",
    "plt.title('Clothing Piece Frequency (Color) on\\nRating and Recommended Mean Scatter')\n",
    "\n",
    "# Vertical and Horizontal Lines\n",
    "l = plt.axhline(y=3.3)\n",
    "l = plt.axvline(x=.55)\n",
    "\n",
    "# Text\n",
    "plt.text(.15, 1, 'Lower\\nQuadrant', ha='left', wrap=True, fontsize=17)\n",
    "plt.show()\n",
    "\n",
    "# Descriptives for LOW QUADRANT\n",
    "temp[(temp['Rating Mean'] < 3.3) | (temp['Recommended Mean'] <= .55)].describe()\n"
   ]
  },
  {
   "cell_type": "markdown",
   "metadata": {},
   "source": [
    "## Average Rating and Recommended IND by Class Name Correlation"
   ]
  },
  {
   "cell_type": "code",
   "execution_count": null,
   "metadata": {},
   "outputs": [],
   "source": [
    "key = 'Class Name'\n",
    "temp = (df.groupby(key)[['Rating', 'Recommended IND', 'Age']]\n",
    "        .aggregate(['count', 'mean']))\n",
    "temp.columns = ['Count', 'Rating Mean', 'Recommended Likelihood Count',\n",
    "                'Recommended Likelihood', 'Age Count', 'Age Mean']\n",
    "temp.drop(['Recommended Likelihood Count', 'Age Count'], axis=1, inplace=True)\n",
    "\n",
    "# Plot Correlation Matrix\n",
    "f, ax = plt.subplots(figsize=[10, 7])\n",
    "ax = sns.heatmap(temp.corr(),\n",
    "                 annot=True, fmt='.2f', cbar_kws={'label': 'Correlation Coefficient'})\n",
    "ax.set_title('Correlation Coefficient for Mean and Count for\\nRating, Recommended Likelihood, and Age\\nGrouped by {}'.format(key))\n",
    "plt.show()\n",
    "print('Class Categories:\\n',df['Class Name'].unique())"
   ]
  },
  {
   "cell_type": "code",
   "execution_count": null,
   "metadata": {},
   "outputs": [],
   "source": [
    "g = sns.jointplot(y='Recommended Likelihood', x='Age Mean', data=temp,\n",
    "                  kind='reg', color='b')\n",
    "plt.subplots_adjust(top=0.999)\n",
    "g.fig.suptitle('Age Mean and Recommended Likelihood\\nGrouped by Clothing Class')\n",
    "plt.ylim(.7, 1.01)"
   ]
  },
  {
   "cell_type": "markdown",
   "metadata": {},
   "source": [
    "# Working with Text"
   ]
  },
  {
   "cell_type": "code",
   "execution_count": 11,
   "metadata": {},
   "outputs": [
    {
     "data": {
      "text/html": [
       "<div>\n",
       "<style>\n",
       "    .dataframe thead tr:only-child th {\n",
       "        text-align: right;\n",
       "    }\n",
       "\n",
       "    .dataframe thead th {\n",
       "        text-align: left;\n",
       "    }\n",
       "\n",
       "    .dataframe tbody tr th {\n",
       "        vertical-align: top;\n",
       "    }\n",
       "</style>\n",
       "<table border=\"1\" class=\"dataframe\">\n",
       "  <thead>\n",
       "    <tr style=\"text-align: right;\">\n",
       "      <th></th>\n",
       "      <th>Title</th>\n",
       "      <th>Review Text</th>\n",
       "      <th>Rating</th>\n",
       "    </tr>\n",
       "  </thead>\n",
       "  <tbody>\n",
       "    <tr>\n",
       "      <th>18943</th>\n",
       "      <td>NaN</td>\n",
       "      <td>This vest is much silkier than the pictures online show, which was a great surprise. the cut of this vest is beautiful and it can be worn so many ways!</td>\n",
       "      <td>5</td>\n",
       "    </tr>\n",
       "    <tr>\n",
       "      <th>19766</th>\n",
       "      <td>Not for me</td>\n",
       "      <td>I was searching for the perfect large comfy sweater for the cold winter weather ahead and i thought this would be it. it looks so cute in the pictures but when i received in by mail it wasn't what i was searching for. this sweater, like on the model, is quite large. although i wanted a large sweater, the fit of this one didn't fit well on me. it has more of a boxy feel to it. i usually wear a medium, but went with a small because i expected this to fit a little large and it still engulfed me. i</td>\n",
       "      <td>3</td>\n",
       "    </tr>\n",
       "    <tr>\n",
       "      <th>15170</th>\n",
       "      <td>Soft,cozy poncho--perfect for fall/winter!</td>\n",
       "      <td>I love this! i bought it in the red color. in person it is a deeper color than it looks online and it has some flecks of lighter yarn in it that just add to it's beauty. it is very soft and cozy. it is warm without being hot. i typically wear a small/sometimes medium at retailer. i bought a medium only because i wanted it to be a little longer so that i could wear it with leggings and feel comfortable. i am 5'8\" though, so if you are shorter than you may not need to size up. it looks great w...</td>\n",
       "      <td>5</td>\n",
       "    </tr>\n",
       "    <tr>\n",
       "      <th>12791</th>\n",
       "      <td>Love this romper</td>\n",
       "      <td>I had bee struggling to find a romper with longer length shorts, it seems like so many of the rompers have short shorts for the bottom half and i wanted something to hit upper mid leg, something like a 4\" inseam on a short. on a whim i ordered this and hoped it would be long enough and sure enough it is perfect. still stylish and still \"short\" for summer without it being so short on the bottom. well made! nice closure at bust so there is no gaping.</td>\n",
       "      <td>5</td>\n",
       "    </tr>\n",
       "    <tr>\n",
       "      <th>16437</th>\n",
       "      <td>NaN</td>\n",
       "      <td>Super cute but order at least one size up</td>\n",
       "      <td>3</td>\n",
       "    </tr>\n",
       "    <tr>\n",
       "      <th>13024</th>\n",
       "      <td>Wonderful sweater</td>\n",
       "      <td>I like the color and design of the pullover sweater, so i bought it as a christmas gift for myself. it arrives almost the same as the picture. the only complain i have is that the size is a little larger than i expected. however it still look good on me,</td>\n",
       "      <td>5</td>\n",
       "    </tr>\n",
       "    <tr>\n",
       "      <th>740</th>\n",
       "      <td>NaN</td>\n",
       "      <td>I love this cardigan! i ordered the pink and it's a really pretty color. i wish it didn't run so big but xs will be cozy all winter.</td>\n",
       "      <td>5</td>\n",
       "    </tr>\n",
       "  </tbody>\n",
       "</table>\n",
       "</div>"
      ],
      "text/plain": [
       "                                            Title  \\\n",
       "18943                                         NaN   \n",
       "19766                                  Not for me   \n",
       "15170  Soft,cozy poncho--perfect for fall/winter!   \n",
       "12791                            Love this romper   \n",
       "16437                                         NaN   \n",
       "13024                           Wonderful sweater   \n",
       "740                                           NaN   \n",
       "\n",
       "                                                                                                                                                                                                                                                                                                                                                                                                                                                                                                               Review Text  \\\n",
       "18943                                                                                                                                                                                                                                                                                                                                                              This vest is much silkier than the pictures online show, which was a great surprise. the cut of this vest is beautiful and it can be worn so many ways!   \n",
       "19766  I was searching for the perfect large comfy sweater for the cold winter weather ahead and i thought this would be it. it looks so cute in the pictures but when i received in by mail it wasn't what i was searching for. this sweater, like on the model, is quite large. although i wanted a large sweater, the fit of this one didn't fit well on me. it has more of a boxy feel to it. i usually wear a medium, but went with a small because i expected this to fit a little large and it still engulfed me. i   \n",
       "15170  I love this! i bought it in the red color. in person it is a deeper color than it looks online and it has some flecks of lighter yarn in it that just add to it's beauty. it is very soft and cozy. it is warm without being hot. i typically wear a small/sometimes medium at retailer. i bought a medium only because i wanted it to be a little longer so that i could wear it with leggings and feel comfortable. i am 5'8\" though, so if you are shorter than you may not need to size up. it looks great w...   \n",
       "12791                                                 I had bee struggling to find a romper with longer length shorts, it seems like so many of the rompers have short shorts for the bottom half and i wanted something to hit upper mid leg, something like a 4\" inseam on a short. on a whim i ordered this and hoped it would be long enough and sure enough it is perfect. still stylish and still \"short\" for summer without it being so short on the bottom. well made! nice closure at bust so there is no gaping.   \n",
       "16437                                                                                                                                                                                                                                                                                                                                                                                                                                                                            Super cute but order at least one size up   \n",
       "13024                                                                                                                                                                                                                                                       I like the color and design of the pullover sweater, so i bought it as a christmas gift for myself. it arrives almost the same as the picture. the only complain i have is that the size is a little larger than i expected. however it still look good on me,   \n",
       "740                                                                                                                                                                                                                                                                                                                                                                                   I love this cardigan! i ordered the pink and it's a really pretty color. i wish it didn't run so big but xs will be cozy all winter.   \n",
       "\n",
       "       Rating  \n",
       "18943       5  \n",
       "19766       3  \n",
       "15170       5  \n",
       "12791       5  \n",
       "16437       3  \n",
       "13024       5  \n",
       "740         5  "
      ]
     },
     "execution_count": 11,
     "metadata": {},
     "output_type": "execute_result"
    }
   ],
   "source": [
    "pd.set_option('max_colwidth', 500)\n",
    "df[[\"Title\",\"Review Text\", \"Rating\"]].sample(7)"
   ]
  },
  {
   "cell_type": "markdown",
   "metadata": {},
   "source": [
    "## Text Cleaning"
   ]
  },
  {
   "cell_type": "code",
   "execution_count": null,
   "metadata": {},
   "outputs": [],
   "source": [
    "from nltk.corpus import stopwords\n",
    "from nltk.stem.porter import PorterStemmer\n",
    "from nltk.tokenize import RegexpTokenizer\n",
    "\n",
    "ps = PorterStemmer()\n",
    "\n",
    "tokenizer = RegexpTokenizer(r'\\w+')\n",
    "stop_words = set(stopwords.words('english'))\n",
    "\n",
    "def preprocessing(data):\n",
    "    txt = data.str.lower().str.cat(sep=' ') #1\n",
    "    words = tokenizer.tokenize(txt) #2\n",
    "    words = [w for w in words if not w in stop_words] #3\n",
    "    #words = [ps.stem(w) for w in words] #4\n",
    "    return words"
   ]
  },
  {
   "cell_type": "markdown",
   "metadata": {},
   "source": [
    "## Sentiment Analysis"
   ]
  },
  {
   "cell_type": "code",
   "execution_count": 12,
   "metadata": {},
   "outputs": [
    {
     "name": "stderr",
     "output_type": "stream",
     "text": [
      "/usr/local/lib/python3.6/dist-packages/nltk/twitter/__init__.py:20: UserWarning: The twython library has not been installed. Some functionality from the twitter package will not be available.\n",
      "  warnings.warn(\"The twython library has not been installed. \"\n"
     ]
    }
   ],
   "source": [
    "from nltk.sentiment.vader import SentimentIntensityAnalyzer\n",
    "\n",
    "# Pre-Processing\n",
    "SIA = SentimentIntensityAnalyzer()\n",
    "df['Review Text']= df['Review Text'].astype(str)\n",
    "\n",
    "# Applying Model, Variable Creation\n",
    "df['Polarity Score'] = df['Review Text'].apply(lambda x: SIA.polarity_scores(x)['compound'])\n",
    "df['Neutral Score'] = df['Review Text'].apply(lambda x: SIA.polarity_scores(x)['neu'])\n",
    "df['Negative Score'] = df['Review Text'].apply(lambda x: SIA.polarity_scores(x)['neg'])\n",
    "df['Positive Score'] = df['Review Text'].apply(lambda x: SIA.polarity_scores(x)['pos'])\n",
    "\n",
    "# Converting 0 to 1 Decimal Score to a Categorical Variable\n",
    "df['Sentiment'] = ''\n",
    "df.loc[df['Polarity Score'] > 0, 'Sentiment'] = 'Positive'\n",
    "df.loc[df['Polarity Score'] == 0, 'Sentiment'] = 'Neutral'\n",
    "df.loc[df['Polarity Score'] < 0, 'Sentiment'] = 'Negative'"
   ]
  },
  {
   "cell_type": "markdown",
   "metadata": {},
   "source": [
    "## Normalize Plots for Sentiment Distribution"
   ]
  },
  {
   "cell_type": "code",
   "execution_count": 13,
   "metadata": {},
   "outputs": [
    {
     "ename": "NameError",
     "evalue": "name 'percentstandardize_barplot' is not defined",
     "output_type": "error",
     "traceback": [
      "\u001b[0;31m---------------------------------------------------------------------------\u001b[0m",
      "\u001b[0;31mNameError\u001b[0m                                 Traceback (most recent call last)",
      "\u001b[0;32m<ipython-input-13-ed6630944a5e>\u001b[0m in \u001b[0;36m<module>\u001b[0;34m()\u001b[0m\n\u001b[1;32m      5\u001b[0m \u001b[0maxes\u001b[0m\u001b[0;34m[\u001b[0m\u001b[0;36m0\u001b[0m\u001b[0;34m]\u001b[0m\u001b[0;34m.\u001b[0m\u001b[0mset_title\u001b[0m\u001b[0;34m(\u001b[0m\u001b[0;34m'Occurence of {}\\nby {}'\u001b[0m\u001b[0;34m.\u001b[0m\u001b[0mformat\u001b[0m\u001b[0;34m(\u001b[0m\u001b[0mxvar\u001b[0m\u001b[0;34m,\u001b[0m \u001b[0mhuevar\u001b[0m\u001b[0;34m)\u001b[0m\u001b[0;34m)\u001b[0m\u001b[0;34m\u001b[0m\u001b[0m\n\u001b[1;32m      6\u001b[0m \u001b[0maxes\u001b[0m\u001b[0;34m[\u001b[0m\u001b[0;36m0\u001b[0m\u001b[0;34m]\u001b[0m\u001b[0;34m.\u001b[0m\u001b[0mset_ylabel\u001b[0m\u001b[0;34m(\u001b[0m\u001b[0;34m'Count'\u001b[0m\u001b[0;34m)\u001b[0m\u001b[0;34m\u001b[0m\u001b[0m\n\u001b[0;32m----> 7\u001b[0;31m \u001b[0mpercentstandardize_barplot\u001b[0m\u001b[0;34m(\u001b[0m\u001b[0mx\u001b[0m\u001b[0;34m=\u001b[0m\u001b[0mxvar\u001b[0m\u001b[0;34m,\u001b[0m \u001b[0my\u001b[0m\u001b[0;34m=\u001b[0m\u001b[0;34m'Percentage'\u001b[0m\u001b[0;34m,\u001b[0m \u001b[0mhue\u001b[0m\u001b[0;34m=\u001b[0m\u001b[0mhuevar\u001b[0m\u001b[0;34m,\u001b[0m \u001b[0mdata\u001b[0m\u001b[0;34m=\u001b[0m\u001b[0mdf\u001b[0m\u001b[0;34m,\u001b[0m \u001b[0max\u001b[0m\u001b[0;34m=\u001b[0m\u001b[0maxes\u001b[0m\u001b[0;34m[\u001b[0m\u001b[0;36m1\u001b[0m\u001b[0;34m]\u001b[0m\u001b[0;34m)\u001b[0m\u001b[0;34m\u001b[0m\u001b[0m\n\u001b[0m\u001b[1;32m      8\u001b[0m \u001b[0maxes\u001b[0m\u001b[0;34m[\u001b[0m\u001b[0;36m1\u001b[0m\u001b[0;34m]\u001b[0m\u001b[0;34m.\u001b[0m\u001b[0mset_title\u001b[0m\u001b[0;34m(\u001b[0m\u001b[0;34m'Percentage Normalized Occurence of {}\\nby {}'\u001b[0m\u001b[0;34m.\u001b[0m\u001b[0mformat\u001b[0m\u001b[0;34m(\u001b[0m\u001b[0mxvar\u001b[0m\u001b[0;34m,\u001b[0m \u001b[0mhuevar\u001b[0m\u001b[0;34m)\u001b[0m\u001b[0;34m)\u001b[0m\u001b[0;34m\u001b[0m\u001b[0m\n\u001b[1;32m      9\u001b[0m \u001b[0maxes\u001b[0m\u001b[0;34m[\u001b[0m\u001b[0;36m1\u001b[0m\u001b[0;34m]\u001b[0m\u001b[0;34m.\u001b[0m\u001b[0mset_ylabel\u001b[0m\u001b[0;34m(\u001b[0m\u001b[0;34m'% Percentage by {}'\u001b[0m\u001b[0;34m.\u001b[0m\u001b[0mformat\u001b[0m\u001b[0;34m(\u001b[0m\u001b[0mhuevar\u001b[0m\u001b[0;34m)\u001b[0m\u001b[0;34m)\u001b[0m\u001b[0;34m\u001b[0m\u001b[0m\n",
      "\u001b[0;31mNameError\u001b[0m: name 'percentstandardize_barplot' is not defined"
     ]
    },
    {
     "data": {
      "image/png": "[encoded data removed]",
      "text/plain": [
       "<matplotlib.figure.Figure at 0x7f025b4ab898>"
      ]
     },
     "metadata": {},
     "output_type": "display_data"
    }
   ],
   "source": [
    "huevar = 'Recommended IND'\n",
    "xvar = 'Sentiment'\n",
    "f, axes = plt.subplots(1, 2, figsize=(16, 9))\n",
    "sns.countplot(x=xvar, hue=huevar,data=df, ax=axes[0], order=['Negative', 'Neutral', 'Positive'])\n",
    "axes[0].set_title('Occurence of {}\\nby {}'.format(xvar, huevar))\n",
    "axes[0].set_ylabel('Count')\n",
    "percentstandardize_barplot(x=xvar, y='Percentage', hue=huevar, data=df, ax=axes[1])\n",
    "axes[1].set_title('Percentage Normalized Occurence of {}\\nby {}'.format(xvar, huevar))\n",
    "axes[1].set_ylabel('% Percentage by {}'.format(huevar))\n",
    "plt.show()"
   ]
  },
  {
   "cell_type": "code",
   "execution_count": null,
   "metadata": {},
   "outputs": [],
   "source": [
    "f, axes = plt.subplots(2, 2, figsize=[10, 10])\n",
    "sns.countplot(x='Sentiment', data=df, ax=axes[0, 0], order=['Negative', 'Neutral', 'Positive'])\n",
    "axes[0,0].set_xlabel('Sentiment')\n",
    "axes[0,0].set_ylabel('Count')\n",
    "axes[0,0].set_title('Overall Sentiment Occurrence')\n",
    "\n",
    "sns.countplot(x='Rating', data=df, ax=axes[0, 1])\n",
    "axes[0,1].set_xlabel('Rating')\n",
    "axes[0,1].set_ylabel('')\n",
    "axes[0,1].set_title('Overall Rating Occurrence')\n",
    "\n",
    "percentstandardize_barplot(x='Rating', y='Percentage', hue='Sentiment', data=df, ax=axes[1, 0])\n",
    "axes[1,0].set_xlabel('Rating')\n",
    "axes[1,0].set_ylabel('Percentage %')\n",
    "axes[1,0].set_title('Standardized Percentage Raiting Frequency\\nby Sentiment')\n",
    "\n",
    "percentstandardize_barplot(x='Sentiment', y='Percentage',hue='Rating', data=df, ax=axes[1, 1])\n",
    "axes[1,1].set_ylabel('Occurrence Frequency')\n",
    "axes[1,1].set_title('Standardized Percentage Sentiment Frequency\\nby Rating')\n",
    "axes[1,1].set_xlabel('Sentiment')\n",
    "axes[1,1].set_ylabel('')\n",
    "\n",
    "f.suptitle('Distribution of Sentiment Score and Rating for Customer Reviews', fontsize=14)\n",
    "f.tight_layout()\n",
    "f.subplots_adjust(top=0.92)\n",
    "plt.show()"
   ]
  },
  {
   "cell_type": "code",
   "execution_count": null,
   "metadata": {},
   "outputs": [],
   "source": [
    "xvar = 'Sentiment'\n",
    "huevar = 'Department Name'\n",
    "rowvar = 'Recommended IND'\n",
    "\n",
    "# Plot\n",
    "f, axes = plt.subplots(2, 2, figsize=(12, 12), sharex=False, sharey=False)\n",
    "for i,x in enumerate(set(df[rowvar][df[rowvar].notnull()])):\n",
    "    percentstandardize_barplot(x=xvar, y='Percentage', hue=huevar, data=df[df[rowvar] == x],\n",
    "                               ax=axes[i,0], order=['Negative','Neutral','Positive'])\n",
    "    percentstandardize_barplot(x=xvar, y='Percentage', hue='Rating', data=df[df[rowvar] == x],\n",
    "                               ax=axes[i,1], order=['Negative','Neutral','Positive'])\n",
    "\n",
    "# Plot Aesthetics\n",
    "axes[1,0].legend_.remove()\n",
    "axes[1,1].legend_.remove()\n",
    "axes[0,1].set_ylabel('')\n",
    "axes[1,1].set_ylabel('')\n",
    "axes[0,0].set_xlabel('')\n",
    "axes[0,1].set_xlabel('')\n",
    "axes[0,0].set_ylabel('Recommended = FALSE\\nPercentage %')\n",
    "axes[1,0].set_ylabel('Recommended = TRUE\\nPercentage %')\n",
    "axes[1,1].set_title('')\n",
    "\n",
    "# Common title and ylabel\n",
    "f.text(0.0, 0.5, 'Subplot Rows\\nSliced by Recommended', va='center', rotation='vertical', fontsize=12)\n",
    "f.suptitle('Review Sentiment by Department Name and Raiting\\nSubplot Rows Slice Data by Recommended', fontsize=16)\n",
    "f.tight_layout()\n",
    "f.subplots_adjust(top=0.93)\n",
    "plt.show()"
   ]
  },
  {
   "cell_type": "code",
   "execution_count": null,
   "metadata": {},
   "outputs": [],
   "source": [
    "f, ax = plt.subplots(figsize=[12, 9])\n",
    "ax = sns.heatmap(df.corr(), annot=True,\n",
    "                 fmt='.2f', cbar_kws={'label': 'Correlation Coefficient'})\n",
    "ax.set_title('Correlation Matrix for All Variables')\n",
    "plt.show()\n",
    "\n",
    "# Sentiment Positivity Score by Positive Feedback Count\n",
    "ax = sns.jointplot(x= df['Positive Feedback Count'], y=df['Positive Score'], kind='reg', color='r')\n",
    "plt.show()"
   ]
  },
  {
   "cell_type": "markdown",
   "metadata": {},
   "source": [
    "# Word Distribution and Word Cloud"
   ]
  },
  {
   "cell_type": "code",
   "execution_count": null,
   "metadata": {},
   "outputs": [],
   "source": [
    "import matplotlib as mpl\n",
    "\n",
    "stopwords = set(STOPWORDS)\n",
    "size = (20, 10)\n",
    "\n",
    "def cloud(text, title, stopwords=stopwords, size=size):\n",
    "    mpl.rcParams['figure.figsize'] = (10.0, 10.0)\n",
    "    mpl.rcParams['font.size'] = 12\n",
    "    mpl.rcParams['savefig.dpi'] = 300\n",
    "    mpl.rcParams['figure.subplot.bottom'] = .1\n",
    "    \n",
    "    wordcloud = WordCloud(width=1600, height=800,\n",
    "                          background_color='black',\n",
    "                          stopwords=stopwords).generate(str(text))\n",
    "    \n",
    "    fig = plt.figure(figsize=size, facecolor='k')\n",
    "    plt.imshow(wordcloud)\n",
    "    plt.axis('off')\n",
    "    plt.title(title, fontsize=50, color='y')\n",
    "    plt.tight_layout(pad=0)\n",
    "    plt.show()\n",
    "    \n",
    "def wordfreqviz(text, x):\n",
    "    word_dist = nltk.FreqDist(text)\n",
    "    top_N = x\n",
    "    rslt = pd.DataFrame(word_dist.most_common(top_N),\n",
    "                        columns=['Word', 'Frequency']).set_index('Word')\n",
    "    mpl.style.use('ggplot')\n",
    "    rslt.plot.bar(rot=0)\n",
    "    \n",
    "def wordfreq(text, x):\n",
    "    word_dist = nltk.FreqDist(text)\n",
    "    top_N = x\n",
    "    rlst = pd.DataFrame(word_dist.most_common(top_N),\n",
    "                        columns=['Word', 'Frequency']).set_index('Word')\n",
    "    return rlst"
   ]
  },
  {
   "cell_type": "markdown",
   "metadata": {},
   "source": [
    "## Visualize Titles"
   ]
  },
  {
   "cell_type": "code",
   "execution_count": null,
   "metadata": {},
   "outputs": [],
   "source": [
    "new_stop = set(STOPWORDS)\n",
    "new_stop.update([x.lower() for x in list(df['Class Name'][df['Class Name'].notnull()].unique())]\n",
    "                + ['dress', 'petite'])\n",
    "\n",
    "# Cloud\n",
    "cloud(text=df.Title[df.Title.notnull()].astype(str).values,\n",
    "      title='WC for Titles',\n",
    "      stopwords=new_stop,\n",
    "      size = (7,4))"
   ]
  },
  {
   "cell_type": "markdown",
   "metadata": {},
   "source": [
    "## Visualize Reviews"
   ]
  },
  {
   "cell_type": "code",
   "execution_count": null,
   "metadata": {},
   "outputs": [],
   "source": [
    "title ='Most Frequent Words in Highly Rated Comments'\n",
    "temp = df['Review Text'][df.Rating.astype(int) >= 3]\n",
    "\n",
    "# Modify Stopwords to Exclude Class types, suchs as 'dress'\n",
    "new_stop = set(STOPWORDS)\n",
    "new_stop.update([x.lower() for x in list(df['Class Name'][df['Class Name'].notnull()].unique())]\n",
    "                + ['dress', 'petite'])\n",
    "\n",
    "# Cloud\n",
    "cloud(text= temp.values, title=title,stopwords= new_stop)\n",
    "\n",
    "# Bar Chart\n",
    "wordfreq(preprocessing(temp), 20).plot.bar(rot=45, legend=False, figsize=(15, 5), color='g',\n",
    "                                          title=title)\n",
    "plt.ylabel('Occurrence Count')\n",
    "plt.xlabel('Most Frequent Words')\n",
    "plt.show()\n",
    "\n",
    "# Low Raited\n",
    "title ='Most Frequent Words in Low Rated Comments'\n",
    "temp = df['Review Text'][df.Rating.astype(int) < 3]\n",
    "\n",
    "# Modify Stopwords to Exclude Class types, suchs as 'dress'\n",
    "new_stop = set(STOPWORDS)\n",
    "new_stop.update([x.lower() for x in list(df['Class Name'][df['Class Name'].notnull()].unique())]\n",
    "                + ['dress', 'petite', 'skirt', 'shirt'])\n",
    "\n",
    "# Cloud\n",
    "cloud(temp.values, title=title, stopwords=new_stop)"
   ]
  },
  {
   "cell_type": "markdown",
   "metadata": {},
   "source": [
    "## WordClouds by Department Name"
   ]
  },
  {
   "cell_type": "code",
   "execution_count": null,
   "metadata": {},
   "outputs": [],
   "source": [
    "department_set = df['Department Name'][df['Department Name'].notnull()].unique()\n",
    "division_set = df['Division Name'][df['Division Name'].notnull()].unique()\n",
    "def cloud_by_category(data, category, subclass):\n",
    "    \"\"\"Function to create a wordcloud by class and subclass\n",
    "    Category signifies the column variable\n",
    "    Subclass refers to the specific value within the categorical variable\"\"\"\n",
    "    new_stop = set(STOPWORDS)\n",
    "    new_stop.update([x.lower() for x in list(data['Class Name'][data['Class Name'].notnull()].unique())]\n",
    "                   + [x.lower() for x in list(data['Department Name'][data['Department Name'].notnull()].unique())]\n",
    "                   + ['dress', 'petite', 'jacket', 'top'])\n",
    "\n",
    "    # Cloud\n",
    "    cloud(text= data['Review Text'][data[category]== subclass],\n",
    "          title='WordCloud for {}'.format(subclass),\n",
    "          stopwords= new_stop,\n",
    "          size = (10,6))\n",
    "    \n",
    "# Plot\n",
    "cloud_by_category(df, 'Division Name', division_set[0])\n",
    "cloud_by_category(df, 'Division Name', division_set[1])\n",
    "cloud_by_category(df, 'Division Name', division_set[2])"
   ]
  },
  {
   "cell_type": "markdown",
   "metadata": {},
   "source": [
    "# Supervised Learning"
   ]
  },
  {
   "cell_type": "code",
   "execution_count": 14,
   "metadata": {},
   "outputs": [],
   "source": [
    "reviews = df['Review Text'].astype(str).str.lower()"
   ]
  },
  {
   "cell_type": "code",
   "execution_count": null,
   "metadata": {},
   "outputs": [],
   "source": [
    "type(reviews)"
   ]
  },
  {
   "cell_type": "code",
   "execution_count": 15,
   "metadata": {},
   "outputs": [],
   "source": [
    "features = reviews.tolist()"
   ]
  },
  {
   "cell_type": "code",
   "execution_count": null,
   "metadata": {},
   "outputs": [],
   "source": [
    "features"
   ]
  },
  {
   "cell_type": "code",
   "execution_count": 16,
   "metadata": {},
   "outputs": [],
   "source": [
    "import re\n",
    "from string import punctuation"
   ]
  },
  {
   "cell_type": "code",
   "execution_count": 17,
   "metadata": {},
   "outputs": [],
   "source": [
    "for index in range(len(features)):\n",
    "    all_text = ''.join([character for character in features[index] if character not in punctuation])\n",
    "    features[index] = re.split(r'\\n|\\r', all_text)\n",
    "    features[index] = ' '.join([word for word in features[index]])"
   ]
  },
  {
   "cell_type": "code",
   "execution_count": null,
   "metadata": {},
   "outputs": [],
   "source": [
    "features"
   ]
  },
  {
   "cell_type": "code",
   "execution_count": 18,
   "metadata": {},
   "outputs": [],
   "source": [
    "labels = np.array(df['Recommended IND'], np.int)"
   ]
  },
  {
   "cell_type": "code",
   "execution_count": null,
   "metadata": {},
   "outputs": [],
   "source": [
    "labels.shape"
   ]
  },
  {
   "cell_type": "code",
   "execution_count": null,
   "metadata": {},
   "outputs": [],
   "source": [
    "labels[labels == 1].shape[0]"
   ]
  },
  {
   "cell_type": "code",
   "execution_count": null,
   "metadata": {},
   "outputs": [],
   "source": [
    "labels[labels == 0].shape[0]"
   ]
  },
  {
   "cell_type": "code",
   "execution_count": 19,
   "metadata": {},
   "outputs": [
    {
     "name": "stderr",
     "output_type": "stream",
     "text": [
      "/usr/local/lib/python3.6/dist-packages/h5py/__init__.py:36: FutureWarning: Conversion of the second argument of issubdtype from `float` to `np.floating` is deprecated. In future, it will be treated as `np.float64 == np.dtype(float).type`.\n",
      "  from ._conv import register_converters as _register_converters\n",
      "Using TensorFlow backend.\n",
      "/usr/lib/python3.6/importlib/_bootstrap.py:205: RuntimeWarning: compiletime version 3.5 of module 'tensorflow.python.framework.fast_tensor_util' does not match runtime version 3.6\n",
      "  return f(*args, **kwds)\n"
     ]
    }
   ],
   "source": [
    "from keras.utils import to_categorical"
   ]
  },
  {
   "cell_type": "code",
   "execution_count": 20,
   "metadata": {},
   "outputs": [],
   "source": [
    "labels = to_categorical(labels)"
   ]
  },
  {
   "cell_type": "code",
   "execution_count": null,
   "metadata": {},
   "outputs": [],
   "source": [
    "labels[:10]"
   ]
  },
  {
   "cell_type": "code",
   "execution_count": 21,
   "metadata": {},
   "outputs": [],
   "source": [
    "from keras.preprocessing.sequence import pad_sequences\n",
    "from keras.preprocessing.text import Tokenizer"
   ]
  },
  {
   "cell_type": "code",
   "execution_count": 22,
   "metadata": {},
   "outputs": [],
   "source": [
    "t = Tokenizer()\n",
    "t.fit_on_texts(features)\n",
    "vocabulary_size = len(t.word_index) + 1"
   ]
  },
  {
   "cell_type": "code",
   "execution_count": null,
   "metadata": {},
   "outputs": [],
   "source": [
    "print('Vocabulary size : {}'.format(vocabulary_size))"
   ]
  },
  {
   "cell_type": "code",
   "execution_count": 23,
   "metadata": {},
   "outputs": [],
   "source": [
    "encoded_features = t.texts_to_sequences(features)\n",
    "\n",
    "max_length = 300\n",
    "\n",
    "padded_features = pad_sequences(encoded_features, maxlen=max_length, padding='post')"
   ]
  },
  {
   "cell_type": "code",
   "execution_count": 24,
   "metadata": {},
   "outputs": [
    {
     "name": "stdout",
     "output_type": "stream",
     "text": [
      "Loaded 400000 word vectors.\n"
     ]
    }
   ],
   "source": [
    "embeddings_index = dict()\n",
    "with open('/home/darth/GitHub Projects/sequence_tagging/data/glove.6B/glove.6B.300d.txt') as file:\n",
    "    data = file.readlines()\n",
    "    \n",
    "for line in data:\n",
    "    values = line.split()\n",
    "    word = values[0]\n",
    "    coefs = np.asarray(values[1:], dtype='float32')\n",
    "    embeddings_index[word] = coefs\n",
    "print('Loaded {} word vectors.'.format(len(embeddings_index)))\n",
    "\n",
    "\n",
    "embedding_matrix = np.zeros((vocabulary_size, max_length))\n",
    "for word, i in t.word_index.items():\n",
    "    embedding_vector = embeddings_index.get(word)\n",
    "    if embedding_vector is not None:\n",
    "        embedding_matrix[i] = embedding_vector"
   ]
  },
  {
   "cell_type": "code",
   "execution_count": null,
   "metadata": {},
   "outputs": [],
   "source": [
    "words = []\n",
    "for word, i in t.word_index.items():\n",
    "    embedding_vector = embeddings_index.get(word)\n",
    "    if embedding_vector is not None:\n",
    "        words.append(word)"
   ]
  },
  {
   "cell_type": "code",
   "execution_count": null,
   "metadata": {},
   "outputs": [],
   "source": [
    "print('{} words covered.'.format(len(words)))"
   ]
  },
  {
   "cell_type": "code",
   "execution_count": null,
   "metadata": {},
   "outputs": [],
   "source": [
    "percentage = (len(words) / vocabulary_size) * 100.00\n",
    "print('{}% of {} words were covered'.format(percentage, vocabulary_size))"
   ]
  },
  {
   "cell_type": "code",
   "execution_count": 25,
   "metadata": {},
   "outputs": [],
   "source": [
    "def train_test_split(features, labels, **kwargs):\n",
    "    \n",
    "    # concatenate the features and labels array\n",
    "    dataset = np.c_[features, labels]\n",
    "\n",
    "    # shuffle the dataset\n",
    "    np.random.shuffle(dataset)\n",
    "\n",
    "    # split the dataset into features, labels\n",
    "    features, labels = dataset[:, 0:max_length], dataset[:, max_length:]\n",
    "\n",
    "    # get the split size for training dataset\n",
    "    split_index = int(kwargs['train_size'] * len(features))\n",
    "\n",
    "    # split the dataset into training/validation dataset\n",
    "    train_features, validation_features = features[:split_index], features[split_index:]\n",
    "    train_labels, validation_labels = labels[:split_index], labels[split_index:]\n",
    "\n",
    "    # get the split size for validation dataset\n",
    "    split_index = int(kwargs['validation_size'] * len(validation_features))\n",
    "\n",
    "    # split the validation dataset into validation/testing dataset\n",
    "    validation_features, test_features = validation_features[:split_index], validation_features[split_index:]\n",
    "    validation_labels, test_labels = validation_labels[:split_index], validation_labels[split_index:]\n",
    "\n",
    "    # return the partitioned dataset\n",
    "    return [train_features, train_labels], [validation_features, validation_labels], [test_features, test_labels]"
   ]
  },
  {
   "cell_type": "code",
   "execution_count": 26,
   "metadata": {},
   "outputs": [],
   "source": [
    "train_dataset, validation_dataset, test_dataset = train_test_split(features=padded_features, labels=labels,\n",
    "                                                                   train_size=0.60, validation_size=0.50)"
   ]
  },
  {
   "cell_type": "code",
   "execution_count": 27,
   "metadata": {},
   "outputs": [
    {
     "name": "stdout",
     "output_type": "stream",
     "text": [
      "Dataset size : 22628\n",
      "Train dataset size : 13576\n",
      "Validation dataset size : 4526\n",
      "Test dataset size : 4526\n"
     ]
    }
   ],
   "source": [
    "print('Dataset size : {}'.format(padded_features.shape[0]))\n",
    "print('Train dataset size : {}'.format(train_dataset[0].shape[0]))\n",
    "print('Validation dataset size : {}'.format(validation_dataset[0].shape[0]))\n",
    "print('Test dataset size : {}'.format(test_dataset[0].shape[0]))"
   ]
  },
  {
   "cell_type": "code",
   "execution_count": 28,
   "metadata": {},
   "outputs": [],
   "source": [
    "from keras import callbacks\n",
    "from keras.layers import Bidirectional\n",
    "from keras.layers import Dense\n",
    "from keras.layers import Dropout\n",
    "from keras.layers import Embedding\n",
    "from keras.layers import LSTM\n",
    "from keras.models import Sequential\n",
    "from sklearn.model_selection import StratifiedKFold"
   ]
  },
  {
   "cell_type": "code",
   "execution_count": 29,
   "metadata": {
    "scrolled": true
   },
   "outputs": [
    {
     "name": "stdout",
     "output_type": "stream",
     "text": [
      "Train on 13576 samples, validate on 4526 samples\n",
      "Epoch 1/32\n",
      "13576/13576 [==============================] - 78s 6ms/step - loss: 0.4723 - acc: 0.8089 - val_loss: 0.4317 - val_acc: 0.8243\n",
      "Epoch 2/32\n",
      "13576/13576 [==============================] - 77s 6ms/step - loss: 0.4214 - acc: 0.8208 - val_loss: 0.3721 - val_acc: 0.8312\n",
      "Epoch 3/32\n",
      "13576/13576 [==============================] - 77s 6ms/step - loss: 0.3521 - acc: 0.8370 - val_loss: 0.3175 - val_acc: 0.8522\n",
      "Epoch 4/32\n",
      "13576/13576 [==============================] - 77s 6ms/step - loss: 0.3172 - acc: 0.8585 - val_loss: 0.3275 - val_acc: 0.8617\n",
      "Epoch 5/32\n",
      "13576/13576 [==============================] - 77s 6ms/step - loss: 0.3032 - acc: 0.8684 - val_loss: 0.3023 - val_acc: 0.8763\n",
      "Epoch 6/32\n",
      "13576/13576 [==============================] - 77s 6ms/step - loss: 0.2702 - acc: 0.8844 - val_loss: 0.2943 - val_acc: 0.8817\n",
      "Epoch 7/32\n",
      "13576/13576 [==============================] - 77s 6ms/step - loss: 0.2557 - acc: 0.8921 - val_loss: 0.2697 - val_acc: 0.8741\n",
      "Epoch 8/32\n",
      "13576/13576 [==============================] - 77s 6ms/step - loss: 0.2421 - acc: 0.8956 - val_loss: 0.2520 - val_acc: 0.8883\n",
      "Epoch 9/32\n",
      "13576/13576 [==============================] - 77s 6ms/step - loss: 0.2230 - acc: 0.9065 - val_loss: 0.2612 - val_acc: 0.8850\n",
      "Epoch 10/32\n",
      "13576/13576 [==============================] - 77s 6ms/step - loss: 0.2464 - acc: 0.8941 - val_loss: 0.2723 - val_acc: 0.8817\n",
      "Epoch 11/32\n",
      "13576/13576 [==============================] - 77s 6ms/step - loss: 0.2072 - acc: 0.9133 - val_loss: 0.3348 - val_acc: 0.8901\n",
      "Epoch 12/32\n",
      "13576/13576 [==============================] - 77s 6ms/step - loss: 0.1906 - acc: 0.9215 - val_loss: 0.2564 - val_acc: 0.8853\n",
      "Epoch 13/32\n",
      "13576/13576 [==============================] - 77s 6ms/step - loss: 0.1661 - acc: 0.9310 - val_loss: 0.2607 - val_acc: 0.8860\n",
      "Epoch 14/32\n",
      "13576/13576 [==============================] - 77s 6ms/step - loss: 0.1593 - acc: 0.9344 - val_loss: 0.2764 - val_acc: 0.8850\n",
      "Epoch 15/32\n",
      "13576/13576 [==============================] - 77s 6ms/step - loss: 0.1421 - acc: 0.9425 - val_loss: 0.2831 - val_acc: 0.8843\n",
      "Epoch 16/32\n",
      "13576/13576 [==============================] - 80s 6ms/step - loss: 0.1176 - acc: 0.9529 - val_loss: 0.3166 - val_acc: 0.8935\n",
      "Epoch 17/32\n",
      "13576/13576 [==============================] - 77s 6ms/step - loss: 0.0909 - acc: 0.9653 - val_loss: 0.3141 - val_acc: 0.8864\n",
      "Epoch 18/32\n",
      "13576/13576 [==============================] - 77s 6ms/step - loss: 0.0745 - acc: 0.9726 - val_loss: 0.4121 - val_acc: 0.8871\n",
      "Epoch 19/32\n",
      "13576/13576 [==============================] - 77s 6ms/step - loss: 0.0679 - acc: 0.9748 - val_loss: 0.4229 - val_acc: 0.8826\n",
      "Epoch 20/32\n",
      "13576/13576 [==============================] - 77s 6ms/step - loss: 0.0514 - acc: 0.9819 - val_loss: 0.4407 - val_acc: 0.8665\n",
      "Epoch 21/32\n",
      "13576/13576 [==============================] - 77s 6ms/step - loss: 0.0380 - acc: 0.9880 - val_loss: 0.5010 - val_acc: 0.8806\n",
      "Epoch 22/32\n",
      "13576/13576 [==============================] - 80s 6ms/step - loss: 0.0325 - acc: 0.9899 - val_loss: 0.5169 - val_acc: 0.8799\n",
      "Epoch 23/32\n",
      "13576/13576 [==============================] - 81s 6ms/step - loss: 0.0345 - acc: 0.9892 - val_loss: 0.4833 - val_acc: 0.8768\n",
      "Epoch 24/32\n",
      "13576/13576 [==============================] - 80s 6ms/step - loss: 0.0386 - acc: 0.9872 - val_loss: 0.4411 - val_acc: 0.8799\n",
      "Epoch 25/32\n",
      "13576/13576 [==============================] - 78s 6ms/step - loss: 0.0269 - acc: 0.9920 - val_loss: 0.8944 - val_acc: 0.8142\n",
      "Epoch 26/32\n",
      "13576/13576 [==============================] - 77s 6ms/step - loss: 0.2054 - acc: 0.9182 - val_loss: 0.3145 - val_acc: 0.8870\n",
      "Epoch 27/32\n",
      "13576/13576 [==============================] - 79s 6ms/step - loss: 0.1169 - acc: 0.9553 - val_loss: 0.3379 - val_acc: 0.8856\n",
      "Epoch 28/32\n",
      "13576/13576 [==============================] - 77s 6ms/step - loss: 0.0764 - acc: 0.9737 - val_loss: 0.3707 - val_acc: 0.8896\n",
      "Epoch 29/32\n",
      "13576/13576 [==============================] - 77s 6ms/step - loss: 0.0301 - acc: 0.9912 - val_loss: 0.4639 - val_acc: 0.8863\n",
      "Epoch 30/32\n",
      "13576/13576 [==============================] - 77s 6ms/step - loss: 0.0152 - acc: 0.9965 - val_loss: 0.5302 - val_acc: 0.8833\n",
      "Epoch 31/32\n",
      "13576/13576 [==============================] - 77s 6ms/step - loss: 0.0183 - acc: 0.9953 - val_loss: 0.4887 - val_acc: 0.8854\n",
      "Epoch 32/32\n",
      "13576/13576 [==============================] - 77s 6ms/step - loss: 0.0112 - acc: 0.9976 - val_loss: 0.5629 - val_acc: 0.8888\n",
      "4526/4526 [==============================] - 33s 7ms/step\n",
      "loss : 0.5596030446092902, acc : 0.8893062305882395\n"
     ]
    }
   ],
   "source": [
    "model = Sequential()\n",
    "e = Embedding(vocabulary_size, max_length,\n",
    "              weights=[embedding_matrix], input_length=max_length, trainable=False)\n",
    "model.add(e)\n",
    "model.add(Bidirectional(LSTM(256)))\n",
    "model.add(Dropout(0.50))\n",
    "model.add(Dense(2, activation='sigmoid'))\n",
    "model.compile(loss='binary_crossentropy', optimizer='adam', metrics=['accuracy'])\n",
    "\n",
    "model.fit(train_dataset[0], train_dataset[1], epochs=32, batch_size=256, verbose=1,\n",
    "          validation_data=(validation_dataset[0], validation_dataset[1]))\n",
    "\n",
    "score = model.evaluate(test_dataset[0], test_dataset[1], verbose=1)\n",
    "\n",
    "print('loss : {}, acc : {}'.format(score[0], score[1]))"
   ]
  },
  {
   "cell_type": "code",
   "execution_count": 30,
   "metadata": {},
   "outputs": [],
   "source": [
    "from sklearn.metrics import classification_report\n",
    "from sklearn.metrics import confusion_matrix\n",
    "\n",
    "test_predictions = model.predict(test_dataset[0])\n",
    "test_predictions = np.argmax(test_predictions, axis=1)\n",
    "\n",
    "class_names = ['(0) Not recommended class', '(1) Recommended class']\n",
    "report = classification_report(np.argmax(test_dataset[1], axis=1), test_predictions, target_names=class_names)"
   ]
  },
  {
   "cell_type": "code",
   "execution_count": 31,
   "metadata": {},
   "outputs": [
    {
     "name": "stdout",
     "output_type": "stream",
     "text": [
      "                           precision    recall  f1-score   support\n",
      "\n",
      "(0) Not recommended class       0.70      0.65      0.68       797\n",
      "    (1) Recommended class       0.93      0.94      0.93      3729\n",
      "\n",
      "              avg / total       0.89      0.89      0.89      4526\n",
      "\n"
     ]
    }
   ],
   "source": [
    "print(report)"
   ]
  },
  {
   "cell_type": "code",
   "execution_count": 32,
   "metadata": {},
   "outputs": [
    {
     "name": "stdout",
     "output_type": "stream",
     "text": [
      "[[ 521  276]\n",
      " [ 225 3504]]\n"
     ]
    }
   ],
   "source": [
    "conf_matrix = confusion_matrix(np.argmax(test_dataset[1], axis=1), test_predictions)\n",
    "print(conf_matrix)"
   ]
  },
  {
   "cell_type": "code",
   "execution_count": 36,
   "metadata": {},
   "outputs": [
    {
     "data": {
      "text/plain": [
       "<matplotlib.axes._subplots.AxesSubplot at 0x7f01e6819dd8>"
      ]
     },
     "execution_count": 36,
     "metadata": {},
     "output_type": "execute_result"
    },
    {
     "data": {
      "image/png": "[encoded data removed]",
      "text/plain": [
       "<matplotlib.figure.Figure at 0x7f01e6b95160>"
      ]
     },
     "metadata": {},
     "output_type": "display_data"
    }
   ],
   "source": [
    "plt.figure(figsize=(8, 8))\n",
    "sns.heatmap(conf_matrix, annot=True, annot_kws={'size': 16}, cmap='coolwarm', fmt='.2f')"
   ]
  },
  {
   "cell_type": "code",
   "execution_count": 41,
   "metadata": {},
   "outputs": [
    {
     "name": "stdout",
     "output_type": "stream",
     "text": [
      "0.7966817439896798\n"
     ]
    }
   ],
   "source": [
    "from sklearn.metrics import roc_auc_score\n",
    "\n",
    "roc = roc_auc_score(y_score=test_predictions, y_true=np.argmax(test_dataset[1], 1))\n",
    "print(roc)"
   ]
  },
  {
   "cell_type": "code",
   "execution_count": 49,
   "metadata": {},
   "outputs": [
    {
     "name": "stdout",
     "output_type": "stream",
     "text": [
      "0.7966817439896798\n"
     ]
    }
   ],
   "source": [
    "from sklearn.metrics import auc\n",
    "from sklearn.metrics import roc_curve\n",
    "\n",
    "fpr, tpr, _ = roc_curve(np.argmax(test_dataset[1], 1), test_predictions)\n",
    "roc_auc = auc(fpr, tpr)\n",
    "print(roc_auc)"
   ]
  },
  {
   "cell_type": "code",
   "execution_count": 62,
   "metadata": {},
   "outputs": [
    {
     "data": {
      "image/png": "[encoded data removed]",
      "text/plain": [
       "<matplotlib.figure.Figure at 0x7f01d0b8a160>"
      ]
     },
     "metadata": {},
     "output_type": "display_data"
    }
   ],
   "source": [
    "plt.figure(figsize=(10, 7))\n",
    "plt.plot(fpr, tpr, lw=2, color='darkorange', label='ROC curve (area = %0.2f)' % roc_auc)\n",
    "plt.plot([0, 1], [0, 1], color='navy', lw=2, linestyle='--')\n",
    "plt.xlim([0.0, 1.0])\n",
    "plt.ylim([0.0, 1.05])\n",
    "plt.xlabel('False Positive Rate')\n",
    "plt.ylabel('True Positive Rate')\n",
    "plt.title('Receiver operating characteristic example')\n",
    "plt.legend(loc='lower right', fontsize=16)\n",
    "plt.show()"
   ]
  },
  {
   "cell_type": "code",
   "execution_count": null,
   "metadata": {},
   "outputs": [],
   "source": []
  }
 ],
 "metadata": {
  "kernelspec": {
   "display_name": "Python 3",
   "language": "python",
   "name": "python3"
  },
  "language_info": {
   "codemirror_mode": {
    "name": "ipython",
    "version": 3
   },
   "file_extension": ".py",
   "mimetype": "text/x-python",
   "name": "python",
   "nbconvert_exporter": "python",
   "pygments_lexer": "ipython3",
   "version": "3.6.2"
  }
 },
 "nbformat": 4,
 "nbformat_minor": 2
}
